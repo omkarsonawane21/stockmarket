{
 "cells": [
  {
   "cell_type": "markdown",
   "id": "7bffb201",
   "metadata": {
    "papermill": {
     "duration": 0.041212,
     "end_time": "2022-02-16T19:26:51.814912",
     "exception": false,
     "start_time": "2022-02-16T19:26:51.773700",
     "status": "completed"
    },
    "tags": []
   },
   "source": [
    "Analyze the risk of a stock, based on its previous performance history.\n",
    "Predicting future stock prices through a Long Short Term Memory (LSTM) method!   "
   ]
  },
  {
   "cell_type": "code",
   "execution_count": 1,
   "id": "25ac7cf2",
   "metadata": {
    "_kg_hide-input": true,
    "_kg_hide-output": true,
    "execution": {
     "iopub.execute_input": "2022-02-16T19:26:51.982741Z",
     "iopub.status.busy": "2022-02-16T19:26:51.981415Z",
     "iopub.status.idle": "2022-02-16T19:27:05.697051Z",
     "shell.execute_reply": "2022-02-16T19:27:05.696411Z",
     "shell.execute_reply.started": "2022-02-16T19:17:51.625390Z"
    },
    "papermill": {
     "duration": 13.76003,
     "end_time": "2022-02-16T19:27:05.697203",
     "exception": false,
     "start_time": "2022-02-16T19:26:51.937173",
     "status": "completed"
    },
    "tags": []
   },
   "outputs": [
    {
     "name": "stdout",
     "output_type": "stream",
     "text": [
      "Requirement already satisfied: pandas in c:\\users\\hp\\appdata\\local\\programs\\python\\python39\\lib\\site-packages (1.4.2)\n",
      "Requirement already satisfied: numpy>=1.18.5 in c:\\users\\hp\\appdata\\local\\programs\\python\\python39\\lib\\site-packages (from pandas) (1.21.1)\n",
      "Requirement already satisfied: python-dateutil>=2.8.1 in c:\\users\\hp\\appdata\\local\\programs\\python\\python39\\lib\\site-packages (from pandas) (2.8.2)\n",
      "Requirement already satisfied: pytz>=2020.1 in c:\\users\\hp\\appdata\\local\\programs\\python\\python39\\lib\\site-packages (from pandas) (2021.1)\n",
      "Requirement already satisfied: six>=1.5 in c:\\users\\hp\\appdata\\local\\programs\\python\\python39\\lib\\site-packages (from python-dateutil>=2.8.1->pandas) (1.15.0)\n",
      "Requirement already satisfied: pandas-datareader in c:\\users\\hp\\appdata\\local\\programs\\python\\python39\\lib\\site-packages (0.10.0)\n",
      "Requirement already satisfied: lxml in c:\\users\\hp\\appdata\\local\\programs\\python\\python39\\lib\\site-packages (from pandas-datareader) (4.8.0)\n",
      "Requirement already satisfied: requests>=2.19.0 in c:\\users\\hp\\appdata\\local\\programs\\python\\python39\\lib\\site-packages (from pandas-datareader) (2.26.0)\n",
      "Requirement already satisfied: pandas>=0.23 in c:\\users\\hp\\appdata\\local\\programs\\python\\python39\\lib\\site-packages (from pandas-datareader) (1.4.2)\n",
      "Requirement already satisfied: numpy>=1.18.5 in c:\\users\\hp\\appdata\\local\\programs\\python\\python39\\lib\\site-packages (from pandas>=0.23->pandas-datareader) (1.21.1)\n",
      "Requirement already satisfied: pytz>=2020.1 in c:\\users\\hp\\appdata\\local\\programs\\python\\python39\\lib\\site-packages (from pandas>=0.23->pandas-datareader) (2021.1)\n",
      "Requirement already satisfied: python-dateutil>=2.8.1 in c:\\users\\hp\\appdata\\local\\programs\\python\\python39\\lib\\site-packages (from pandas>=0.23->pandas-datareader) (2.8.2)\n",
      "Requirement already satisfied: urllib3<1.27,>=1.21.1 in c:\\users\\hp\\appdata\\local\\programs\\python\\python39\\lib\\site-packages (from requests>=2.19.0->pandas-datareader) (1.26.7)\n",
      "Requirement already satisfied: idna<4,>=2.5 in c:\\users\\hp\\appdata\\local\\programs\\python\\python39\\lib\\site-packages (from requests>=2.19.0->pandas-datareader) (3.3)\n",
      "Requirement already satisfied: certifi>=2017.4.17 in c:\\users\\hp\\appdata\\local\\programs\\python\\python39\\lib\\site-packages (from requests>=2.19.0->pandas-datareader) (2021.10.8)\n",
      "Requirement already satisfied: charset-normalizer~=2.0.0 in c:\\users\\hp\\appdata\\local\\programs\\python\\python39\\lib\\site-packages (from requests>=2.19.0->pandas-datareader) (2.0.7)\n",
      "Requirement already satisfied: six>=1.5 in c:\\users\\hp\\appdata\\local\\programs\\python\\python39\\lib\\site-packages (from python-dateutil>=2.8.1->pandas>=0.23->pandas-datareader) (1.15.0)\n"
     ]
    }
   ],
   "source": [
    "# !pip install -q hvplot\n",
    "# !pip install --upgrade pandas\n",
    "# !pip install --upgrade pandas-datareader\n",
    "# !pip install -q yfinance"
   ]
  },
  {
   "cell_type": "code",
   "execution_count": 2,
   "id": "1d838634",
   "metadata": {
    "execution": {
     "iopub.execute_input": "2022-02-16T19:27:05.788361Z",
     "iopub.status.busy": "2022-02-16T19:27:05.787749Z",
     "iopub.status.idle": "2022-02-16T19:27:06.931166Z",
     "shell.execute_reply": "2022-02-16T19:27:06.930407Z",
     "shell.execute_reply.started": "2022-02-16T19:18:04.100508Z"
    },
    "papermill": {
     "duration": 1.192699,
     "end_time": "2022-02-16T19:27:06.931324",
     "exception": false,
     "start_time": "2022-02-16T19:27:05.738625",
     "status": "completed"
    },
    "tags": []
   },
   "outputs": [],
   "source": [
    "import pandas as pd\n",
    "import numpy as np\n",
    "\n",
    "import matplotlib.pyplot as plt\n",
    "import seaborn as sns\n",
    "sns.set_style('whitegrid')\n",
    "plt.style.use(\"fivethirtyeight\")\n",
    "%matplotlib inline\n",
    "\n",
    "# For reading stock data from yahoo\n",
    "from pandas_datareader.data import DataReader\n",
    "import yfinance as yf\n",
    "\n",
    "# For time stamps\n",
    "from datetime import datetime"
   ]
  },
  {
   "cell_type": "code",
   "execution_count": 15,
   "id": "3377e80e",
   "metadata": {
    "execution": {
     "iopub.execute_input": "2022-02-16T19:27:07.075425Z",
     "iopub.status.busy": "2022-02-16T19:27:07.068050Z",
     "iopub.status.idle": "2022-02-16T19:27:07.634299Z",
     "shell.execute_reply": "2022-02-16T19:27:07.633753Z",
     "shell.execute_reply.started": "2022-02-16T19:18:05.160779Z"
    },
    "papermill": {
     "duration": 0.640329,
     "end_time": "2022-02-16T19:27:07.634422",
     "exception": false,
     "start_time": "2022-02-16T19:27:06.994093",
     "status": "completed"
    },
    "tags": []
   },
   "outputs": [
    {
     "name": "stdout",
     "output_type": "stream",
     "text": [
      "[*********************100%***********************]  1 of 1 completed\n"
     ]
    }
   ],
   "source": [
    "# Set up End and Start times for data grab\n",
    "stock = 'GOOG'\n",
    "\n",
    "end = datetime.now()\n",
    "start = datetime(end.year - 10, end.month, end.day)\n",
    "\n",
    "# globals() is a sloppy way of setting the DataFrame names, but its simple\n",
    "globals()[stock] = yf.download(stock, start, end)\n",
    "    "
   ]
  },
  {
   "cell_type": "code",
   "execution_count": 16,
   "id": "c770d4a3",
   "metadata": {
    "execution": {
     "iopub.execute_input": "2022-02-16T19:27:07.996756Z",
     "iopub.status.busy": "2022-02-16T19:27:07.992978Z",
     "iopub.status.idle": "2022-02-16T19:27:08.024063Z",
     "shell.execute_reply": "2022-02-16T19:27:08.023537Z",
     "shell.execute_reply.started": "2022-02-16T19:18:06.716011Z"
    },
    "papermill": {
     "duration": 0.080217,
     "end_time": "2022-02-16T19:27:08.024191",
     "exception": false,
     "start_time": "2022-02-16T19:27:07.943974",
     "status": "completed"
    },
    "tags": []
   },
   "outputs": [
    {
     "data": {
      "text/html": [
       "<div>\n",
       "<style scoped>\n",
       "    .dataframe tbody tr th:only-of-type {\n",
       "        vertical-align: middle;\n",
       "    }\n",
       "\n",
       "    .dataframe tbody tr th {\n",
       "        vertical-align: top;\n",
       "    }\n",
       "\n",
       "    .dataframe thead th {\n",
       "        text-align: right;\n",
       "    }\n",
       "</style>\n",
       "<table border=\"1\" class=\"dataframe\">\n",
       "  <thead>\n",
       "    <tr style=\"text-align: right;\">\n",
       "      <th></th>\n",
       "      <th>Open</th>\n",
       "      <th>High</th>\n",
       "      <th>Low</th>\n",
       "      <th>Close</th>\n",
       "      <th>Adj Close</th>\n",
       "      <th>Volume</th>\n",
       "    </tr>\n",
       "    <tr>\n",
       "      <th>Date</th>\n",
       "      <th></th>\n",
       "      <th></th>\n",
       "      <th></th>\n",
       "      <th></th>\n",
       "      <th></th>\n",
       "      <th></th>\n",
       "    </tr>\n",
       "  </thead>\n",
       "  <tbody>\n",
       "    <tr>\n",
       "      <th>2022-03-21</th>\n",
       "      <td>2736.949951</td>\n",
       "      <td>2751.649902</td>\n",
       "      <td>2692.229980</td>\n",
       "      <td>2729.570068</td>\n",
       "      <td>2729.570068</td>\n",
       "      <td>1331600</td>\n",
       "    </tr>\n",
       "    <tr>\n",
       "      <th>2022-03-22</th>\n",
       "      <td>2730.000000</td>\n",
       "      <td>2830.000000</td>\n",
       "      <td>2730.000000</td>\n",
       "      <td>2805.550049</td>\n",
       "      <td>2805.550049</td>\n",
       "      <td>1488800</td>\n",
       "    </tr>\n",
       "    <tr>\n",
       "      <th>2022-03-23</th>\n",
       "      <td>2782.770020</td>\n",
       "      <td>2800.500000</td>\n",
       "      <td>2763.330078</td>\n",
       "      <td>2770.070068</td>\n",
       "      <td>2770.070068</td>\n",
       "      <td>1265100</td>\n",
       "    </tr>\n",
       "    <tr>\n",
       "      <th>2022-03-24</th>\n",
       "      <td>2785.449951</td>\n",
       "      <td>2827.929932</td>\n",
       "      <td>2760.788086</td>\n",
       "      <td>2826.239990</td>\n",
       "      <td>2826.239990</td>\n",
       "      <td>1027200</td>\n",
       "    </tr>\n",
       "    <tr>\n",
       "      <th>2022-03-25</th>\n",
       "      <td>2835.080078</td>\n",
       "      <td>2839.189941</td>\n",
       "      <td>2793.989990</td>\n",
       "      <td>2830.429932</td>\n",
       "      <td>2830.429932</td>\n",
       "      <td>963500</td>\n",
       "    </tr>\n",
       "    <tr>\n",
       "      <th>2022-03-28</th>\n",
       "      <td>2813.689941</td>\n",
       "      <td>2839.530029</td>\n",
       "      <td>2796.562988</td>\n",
       "      <td>2839.000000</td>\n",
       "      <td>2839.000000</td>\n",
       "      <td>1188700</td>\n",
       "    </tr>\n",
       "    <tr>\n",
       "      <th>2022-03-29</th>\n",
       "      <td>2863.209961</td>\n",
       "      <td>2883.250000</td>\n",
       "      <td>2849.679932</td>\n",
       "      <td>2865.000000</td>\n",
       "      <td>2865.000000</td>\n",
       "      <td>1433900</td>\n",
       "    </tr>\n",
       "    <tr>\n",
       "      <th>2022-03-30</th>\n",
       "      <td>2857.399902</td>\n",
       "      <td>2869.610107</td>\n",
       "      <td>2843.360107</td>\n",
       "      <td>2852.889893</td>\n",
       "      <td>2852.889893</td>\n",
       "      <td>1052300</td>\n",
       "    </tr>\n",
       "    <tr>\n",
       "      <th>2022-03-31</th>\n",
       "      <td>2848.969971</td>\n",
       "      <td>2852.889893</td>\n",
       "      <td>2792.379883</td>\n",
       "      <td>2792.989990</td>\n",
       "      <td>2792.989990</td>\n",
       "      <td>1475800</td>\n",
       "    </tr>\n",
       "    <tr>\n",
       "      <th>2022-04-01</th>\n",
       "      <td>2800.199951</td>\n",
       "      <td>2819.000000</td>\n",
       "      <td>2775.939941</td>\n",
       "      <td>2814.000000</td>\n",
       "      <td>2814.000000</td>\n",
       "      <td>1173600</td>\n",
       "    </tr>\n",
       "  </tbody>\n",
       "</table>\n",
       "</div>"
      ],
      "text/plain": [
       "                   Open         High          Low        Close    Adj Close  \\\n",
       "Date                                                                          \n",
       "2022-03-21  2736.949951  2751.649902  2692.229980  2729.570068  2729.570068   \n",
       "2022-03-22  2730.000000  2830.000000  2730.000000  2805.550049  2805.550049   \n",
       "2022-03-23  2782.770020  2800.500000  2763.330078  2770.070068  2770.070068   \n",
       "2022-03-24  2785.449951  2827.929932  2760.788086  2826.239990  2826.239990   \n",
       "2022-03-25  2835.080078  2839.189941  2793.989990  2830.429932  2830.429932   \n",
       "2022-03-28  2813.689941  2839.530029  2796.562988  2839.000000  2839.000000   \n",
       "2022-03-29  2863.209961  2883.250000  2849.679932  2865.000000  2865.000000   \n",
       "2022-03-30  2857.399902  2869.610107  2843.360107  2852.889893  2852.889893   \n",
       "2022-03-31  2848.969971  2852.889893  2792.379883  2792.989990  2792.989990   \n",
       "2022-04-01  2800.199951  2819.000000  2775.939941  2814.000000  2814.000000   \n",
       "\n",
       "             Volume  \n",
       "Date                 \n",
       "2022-03-21  1331600  \n",
       "2022-03-22  1488800  \n",
       "2022-03-23  1265100  \n",
       "2022-03-24  1027200  \n",
       "2022-03-25   963500  \n",
       "2022-03-28  1188700  \n",
       "2022-03-29  1433900  \n",
       "2022-03-30  1052300  \n",
       "2022-03-31  1475800  \n",
       "2022-04-01  1173600  "
      ]
     },
     "execution_count": 16,
     "metadata": {},
     "output_type": "execute_result"
    }
   ],
   "source": [
    "df = pd.DataFrame(data=GOOG)\n",
    "df.tail(10)"
   ]
  },
  {
   "cell_type": "code",
   "execution_count": 17,
   "id": "781915d5",
   "metadata": {
    "execution": {
     "iopub.execute_input": "2022-02-16T19:27:08.117709Z",
     "iopub.status.busy": "2022-02-16T19:27:08.113434Z",
     "iopub.status.idle": "2022-02-16T19:27:08.142402Z",
     "shell.execute_reply": "2022-02-16T19:27:08.142903Z",
     "shell.execute_reply.started": "2022-02-16T19:18:06.755442Z"
    },
    "papermill": {
     "duration": 0.075294,
     "end_time": "2022-02-16T19:27:08.143101",
     "exception": false,
     "start_time": "2022-02-16T19:27:08.067807",
     "status": "completed"
    },
    "tags": []
   },
   "outputs": [
    {
     "data": {
      "text/html": [
       "<div>\n",
       "<style scoped>\n",
       "    .dataframe tbody tr th:only-of-type {\n",
       "        vertical-align: middle;\n",
       "    }\n",
       "\n",
       "    .dataframe tbody tr th {\n",
       "        vertical-align: top;\n",
       "    }\n",
       "\n",
       "    .dataframe thead th {\n",
       "        text-align: right;\n",
       "    }\n",
       "</style>\n",
       "<table border=\"1\" class=\"dataframe\">\n",
       "  <thead>\n",
       "    <tr style=\"text-align: right;\">\n",
       "      <th></th>\n",
       "      <th>Open</th>\n",
       "      <th>High</th>\n",
       "      <th>Low</th>\n",
       "      <th>Close</th>\n",
       "      <th>Adj Close</th>\n",
       "      <th>Volume</th>\n",
       "    </tr>\n",
       "  </thead>\n",
       "  <tbody>\n",
       "    <tr>\n",
       "      <th>count</th>\n",
       "      <td>2518.000000</td>\n",
       "      <td>2518.000000</td>\n",
       "      <td>2518.000000</td>\n",
       "      <td>2518.000000</td>\n",
       "      <td>2518.000000</td>\n",
       "      <td>2.518000e+03</td>\n",
       "    </tr>\n",
       "    <tr>\n",
       "      <th>mean</th>\n",
       "      <td>1048.603365</td>\n",
       "      <td>1058.530655</td>\n",
       "      <td>1038.761178</td>\n",
       "      <td>1048.955341</td>\n",
       "      <td>1048.955341</td>\n",
       "      <td>2.262459e+06</td>\n",
       "    </tr>\n",
       "    <tr>\n",
       "      <th>std</th>\n",
       "      <td>675.010001</td>\n",
       "      <td>681.982490</td>\n",
       "      <td>668.132283</td>\n",
       "      <td>675.160728</td>\n",
       "      <td>675.160728</td>\n",
       "      <td>1.746765e+06</td>\n",
       "    </tr>\n",
       "    <tr>\n",
       "      <th>min</th>\n",
       "      <td>279.123779</td>\n",
       "      <td>281.205963</td>\n",
       "      <td>277.220917</td>\n",
       "      <td>278.481171</td>\n",
       "      <td>278.481171</td>\n",
       "      <td>7.922000e+03</td>\n",
       "    </tr>\n",
       "    <tr>\n",
       "      <th>25%</th>\n",
       "      <td>549.022675</td>\n",
       "      <td>553.443008</td>\n",
       "      <td>542.602798</td>\n",
       "      <td>548.788315</td>\n",
       "      <td>548.788315</td>\n",
       "      <td>1.267150e+06</td>\n",
       "    </tr>\n",
       "    <tr>\n",
       "      <th>50%</th>\n",
       "      <td>835.755005</td>\n",
       "      <td>841.975006</td>\n",
       "      <td>831.254974</td>\n",
       "      <td>836.994995</td>\n",
       "      <td>836.994995</td>\n",
       "      <td>1.661300e+06</td>\n",
       "    </tr>\n",
       "    <tr>\n",
       "      <th>75%</th>\n",
       "      <td>1229.455017</td>\n",
       "      <td>1241.614990</td>\n",
       "      <td>1219.782501</td>\n",
       "      <td>1230.845032</td>\n",
       "      <td>1230.845032</td>\n",
       "      <td>2.665000e+06</td>\n",
       "    </tr>\n",
       "    <tr>\n",
       "      <th>max</th>\n",
       "      <td>3037.270020</td>\n",
       "      <td>3042.000000</td>\n",
       "      <td>2997.750000</td>\n",
       "      <td>3014.179932</td>\n",
       "      <td>3014.179932</td>\n",
       "      <td>2.497807e+07</td>\n",
       "    </tr>\n",
       "  </tbody>\n",
       "</table>\n",
       "</div>"
      ],
      "text/plain": [
       "              Open         High          Low        Close    Adj Close  \\\n",
       "count  2518.000000  2518.000000  2518.000000  2518.000000  2518.000000   \n",
       "mean   1048.603365  1058.530655  1038.761178  1048.955341  1048.955341   \n",
       "std     675.010001   681.982490   668.132283   675.160728   675.160728   \n",
       "min     279.123779   281.205963   277.220917   278.481171   278.481171   \n",
       "25%     549.022675   553.443008   542.602798   548.788315   548.788315   \n",
       "50%     835.755005   841.975006   831.254974   836.994995   836.994995   \n",
       "75%    1229.455017  1241.614990  1219.782501  1230.845032  1230.845032   \n",
       "max    3037.270020  3042.000000  2997.750000  3014.179932  3014.179932   \n",
       "\n",
       "             Volume  \n",
       "count  2.518000e+03  \n",
       "mean   2.262459e+06  \n",
       "std    1.746765e+06  \n",
       "min    7.922000e+03  \n",
       "25%    1.267150e+06  \n",
       "50%    1.661300e+06  \n",
       "75%    2.665000e+06  \n",
       "max    2.497807e+07  "
      ]
     },
     "execution_count": 17,
     "metadata": {},
     "output_type": "execute_result"
    }
   ],
   "source": [
    "GOOG.describe()"
   ]
  },
  {
   "cell_type": "code",
   "execution_count": 18,
   "id": "3620c912",
   "metadata": {
    "execution": {
     "iopub.execute_input": "2022-02-16T19:27:08.252033Z",
     "iopub.status.busy": "2022-02-16T19:27:08.251458Z",
     "iopub.status.idle": "2022-02-16T19:27:08.253464Z",
     "shell.execute_reply": "2022-02-16T19:27:08.253958Z",
     "shell.execute_reply.started": "2022-02-16T19:18:06.788008Z"
    },
    "papermill": {
     "duration": 0.064732,
     "end_time": "2022-02-16T19:27:08.254102",
     "exception": false,
     "start_time": "2022-02-16T19:27:08.189370",
     "status": "completed"
    },
    "tags": []
   },
   "outputs": [
    {
     "name": "stdout",
     "output_type": "stream",
     "text": [
      "<class 'pandas.core.frame.DataFrame'>\n",
      "DatetimeIndex: 2518 entries, 2012-04-02 to 2022-04-01\n",
      "Data columns (total 6 columns):\n",
      " #   Column     Non-Null Count  Dtype  \n",
      "---  ------     --------------  -----  \n",
      " 0   Open       2518 non-null   float64\n",
      " 1   High       2518 non-null   float64\n",
      " 2   Low        2518 non-null   float64\n",
      " 3   Close      2518 non-null   float64\n",
      " 4   Adj Close  2518 non-null   float64\n",
      " 5   Volume     2518 non-null   int64  \n",
      "dtypes: float64(5), int64(1)\n",
      "memory usage: 137.7 KB\n"
     ]
    }
   ],
   "source": [
    "GOOG.info()"
   ]
  },
  {
   "cell_type": "code",
   "execution_count": 20,
   "id": "11a7b74a",
   "metadata": {
    "execution": {
     "iopub.execute_input": "2022-02-16T19:27:08.355819Z",
     "iopub.status.busy": "2022-02-16T19:27:08.346429Z",
     "iopub.status.idle": "2022-02-16T19:27:10.178634Z",
     "shell.execute_reply": "2022-02-16T19:27:10.179205Z",
     "shell.execute_reply.started": "2022-02-16T19:18:06.807319Z"
    },
    "papermill": {
     "duration": 1.880434,
     "end_time": "2022-02-16T19:27:10.179406",
     "exception": false,
     "start_time": "2022-02-16T19:27:08.298972",
     "status": "completed"
    },
    "tags": []
   },
   "outputs": [
    {
     "data": {
      "image/png": "[encoded data removed]",
      "text/plain": [
       "<Figure size 1080x432 with 1 Axes>"
      ]
     },
     "metadata": {
      "needs_background": "light"
     },
     "output_type": "display_data"
    }
   ],
   "source": [
    "plt.figure(figsize=(15, 6))\n",
    "GOOG['Adj Close'].plot()\n",
    "plt.ylabel('Adj Close')\n",
    "plt.xlabel(None)\n",
    "plt.title(f\"Closing Price of GOOGLE\")\n",
    "    \n",
    "plt.tight_layout()"
   ]
  },
  {
   "cell_type": "code",
   "execution_count": 21,
   "id": "3ac910ad",
   "metadata": {
    "execution": {
     "iopub.execute_input": "2022-02-16T19:27:10.385619Z",
     "iopub.status.busy": "2022-02-16T19:27:10.384845Z",
     "iopub.status.idle": "2022-02-16T19:27:11.592955Z",
     "shell.execute_reply": "2022-02-16T19:27:11.592397Z",
     "shell.execute_reply.started": "2022-02-16T19:18:08.466175Z"
    },
    "papermill": {
     "duration": 1.341359,
     "end_time": "2022-02-16T19:27:11.593099",
     "exception": false,
     "start_time": "2022-02-16T19:27:10.251740",
     "status": "completed"
    },
    "tags": []
   },
   "outputs": [
    {
     "data": {
      "image/png": "[encoded data removed]",
      "text/plain": [
       "<Figure size 1080x504 with 1 Axes>"
      ]
     },
     "metadata": {
      "needs_background": "light"
     },
     "output_type": "display_data"
    }
   ],
   "source": [
    "# total volume of stock being traded each day\n",
    "plt.figure(figsize=(15, 7))\n",
    "GOOG['Volume'].plot()\n",
    "plt.ylabel('Volume')\n",
    "plt.xlabel(None)\n",
    "plt.title(f\"Sales Volume for GOOGLE\")\n",
    "    \n",
    "plt.tight_layout()"
   ]
  },
  {
   "cell_type": "markdown",
   "id": "cc53addd",
   "metadata": {
    "papermill": {
     "duration": 0.0739,
     "end_time": "2022-02-16T19:27:11.743704",
     "exception": false,
     "start_time": "2022-02-16T19:27:11.669804",
     "status": "completed"
    },
    "tags": []
   },
   "source": [
    "Now that we've seen the visualizations for the closing price and the volume traded each day, let's go ahead and caculate the moving average for the stock."
   ]
  },
  {
   "cell_type": "markdown",
   "id": "36c1e270",
   "metadata": {
    "papermill": {
     "duration": 0.073383,
     "end_time": "2022-02-16T19:27:11.891348",
     "exception": false,
     "start_time": "2022-02-16T19:27:11.817965",
     "status": "completed"
    },
    "tags": []
   },
   "source": [
    "# Moving average of the various stocks."
   ]
  },
  {
   "cell_type": "code",
   "execution_count": 22,
   "id": "540ac7c0",
   "metadata": {
    "execution": {
     "iopub.execute_input": "2022-02-16T19:27:12.050425Z",
     "iopub.status.busy": "2022-02-16T19:27:12.049529Z",
     "iopub.status.idle": "2022-02-16T19:27:12.058905Z",
     "shell.execute_reply": "2022-02-16T19:27:12.059457Z",
     "shell.execute_reply.started": "2022-02-16T19:18:10.128304Z"
    },
    "papermill": {
     "duration": 0.094078,
     "end_time": "2022-02-16T19:27:12.059650",
     "exception": false,
     "start_time": "2022-02-16T19:27:11.965572",
     "status": "completed"
    },
    "tags": []
   },
   "outputs": [],
   "source": [
    "ma_day = [10, 20, 50]\n",
    "\n",
    "for ma in ma_day:\n",
    "    column_name = f\"MA for {ma} days\"\n",
    "    GOOG[column_name] = GOOG['Adj Close'].rolling(ma).mean()"
   ]
  },
  {
   "cell_type": "code",
   "execution_count": 27,
   "id": "4fc97ba6",
   "metadata": {
    "execution": {
     "iopub.execute_input": "2022-02-16T19:27:12.216483Z",
     "iopub.status.busy": "2022-02-16T19:27:12.215660Z",
     "iopub.status.idle": "2022-02-16T19:27:12.219132Z",
     "shell.execute_reply": "2022-02-16T19:27:12.218683Z",
     "shell.execute_reply.started": "2022-02-16T19:18:10.149731Z"
    },
    "papermill": {
     "duration": 0.085878,
     "end_time": "2022-02-16T19:27:12.219280",
     "exception": false,
     "start_time": "2022-02-16T19:27:12.133402",
     "status": "completed"
    },
    "tags": []
   },
   "outputs": [
    {
     "name": "stdout",
     "output_type": "stream",
     "text": [
      "Index(['Open', 'High', 'Low', 'Close', 'Adj Close', 'Volume', 'MA for 10 days',\n",
      "       'MA for 20 days', 'MA for 50 days'],\n",
      "      dtype='object')\n",
      "Date\n",
      "2022-03-21    2644.549023\n",
      "2022-03-22    2670.547021\n",
      "2022-03-23    2679.822021\n",
      "2022-03-24    2697.082031\n",
      "2022-03-25    2719.174023\n",
      "2022-03-28    2749.592017\n",
      "2022-03-29    2776.771021\n",
      "2022-03-30    2794.679004\n",
      "2022-03-31    2804.777002\n",
      "2022-04-01    2812.573999\n",
      "Name: MA for 10 days, dtype: float64\n",
      "\n",
      "\n",
      "\n",
      "Date\n",
      "2022-03-07    2685.211011\n",
      "2022-03-08    2673.551514\n",
      "2022-03-09    2668.204517\n",
      "2022-03-10    2659.433508\n",
      "2022-03-11    2651.306506\n",
      "2022-03-14    2643.917505\n",
      "2022-03-15    2638.278003\n",
      "2022-03-16    2635.543005\n",
      "2022-03-17    2632.656006\n",
      "2022-03-18    2637.149011\n",
      "2022-03-21    2643.160010\n",
      "2022-03-22    2654.035010\n",
      "2022-03-23    2664.953516\n",
      "2022-03-24    2673.592017\n",
      "2022-03-25    2680.594019\n",
      "2022-03-28    2687.653015\n",
      "2022-03-29    2696.735010\n",
      "2022-03-30    2704.628003\n",
      "2022-03-31    2709.969507\n",
      "2022-04-01    2718.547510\n",
      "Name: MA for 20 days, dtype: float64\n",
      "\n",
      "\n",
      "\n",
      "Date\n",
      "2022-01-21    2881.550620\n",
      "2022-01-24    2875.049019\n",
      "2022-01-25    2867.044019\n",
      "2022-01-26    2858.881821\n",
      "2022-01-27    2850.775020\n",
      "2022-01-28    2844.460420\n",
      "2022-01-31    2839.115020\n",
      "2022-02-01    2833.982822\n",
      "2022-02-02    2833.216421\n",
      "2022-02-03    2831.445220\n",
      "2022-02-04    2829.948823\n",
      "2022-02-07    2826.837021\n",
      "2022-02-08    2825.399819\n",
      "2022-02-09    2823.535420\n",
      "2022-02-10    2821.995620\n",
      "2022-02-11    2819.000420\n",
      "2022-02-14    2815.609819\n",
      "2022-02-15    2813.171821\n",
      "2022-02-16    2810.648223\n",
      "2022-02-17    2804.357021\n",
      "2022-02-18    2797.055825\n",
      "2022-02-22    2789.574424\n",
      "2022-02-23    2781.138423\n",
      "2022-02-24    2775.526021\n",
      "2022-02-25    2771.345620\n",
      "2022-02-28    2766.354619\n",
      "2022-03-01    2762.086421\n",
      "2022-03-02    2758.865820\n",
      "2022-03-03    2755.628418\n",
      "2022-03-04    2750.789019\n",
      "2022-03-07    2742.595220\n",
      "2022-03-08    2734.649619\n",
      "2022-03-09    2728.970420\n",
      "2022-03-10    2723.464019\n",
      "2022-03-11    2717.052417\n",
      "2022-03-14    2709.347817\n",
      "2022-03-15    2703.340215\n",
      "2022-03-16    2698.786616\n",
      "2022-03-17    2694.860215\n",
      "2022-03-18    2694.519414\n",
      "2022-03-21    2694.090415\n",
      "2022-03-22    2695.399614\n",
      "2022-03-23    2695.371416\n",
      "2022-03-24    2695.889214\n",
      "2022-03-25    2695.838613\n",
      "2022-03-28    2696.966211\n",
      "2022-03-29    2698.351611\n",
      "2022-03-30    2700.893208\n",
      "2022-03-31    2702.492207\n",
      "2022-04-01    2705.369609\n",
      "Name: MA for 50 days, dtype: float64\n"
     ]
    }
   ],
   "source": [
    "print(GOOG.columns)\n",
    "print(GOOG['MA for 10 days'].tail(10))\n",
    "print(\"\\n\\n\")\n",
    "print(GOOG['MA for 20 days'].tail(20))\n",
    "print(\"\\n\\n\")\n",
    "print(GOOG['MA for 50 days'].tail(50))"
   ]
  },
  {
   "cell_type": "markdown",
   "id": "03b201cb",
   "metadata": {
    "papermill": {
     "duration": 0.050363,
     "end_time": "2022-02-16T19:27:12.326551",
     "exception": false,
     "start_time": "2022-02-16T19:27:12.276188",
     "status": "completed"
    },
    "tags": []
   },
   "source": [
    "Now let's go ahead and plot all the additional Moving Averages"
   ]
  },
  {
   "cell_type": "code",
   "execution_count": 37,
   "id": "c75ce7ff",
   "metadata": {
    "execution": {
     "iopub.execute_input": "2022-02-16T19:27:12.585179Z",
     "iopub.status.busy": "2022-02-16T19:27:12.584500Z",
     "iopub.status.idle": "2022-02-16T19:27:14.118304Z",
     "shell.execute_reply": "2022-02-16T19:27:14.117695Z",
     "shell.execute_reply.started": "2022-02-16T19:18:10.166658Z"
    },
    "papermill": {
     "duration": 1.612587,
     "end_time": "2022-02-16T19:27:14.118464",
     "exception": false,
     "start_time": "2022-02-16T19:27:12.505877",
     "status": "completed"
    },
    "tags": []
   },
   "outputs": [
    {
     "data": {
      "text/plain": [
       "<AxesSubplot:xlabel='Date'>"
      ]
     },
     "execution_count": 37,
     "metadata": {},
     "output_type": "execute_result"
    },
    {
     "data": {
      "image/png": "[encoded data removed]",
      "text/plain": [
       "<Figure size 432x288 with 1 Axes>"
      ]
     },
     "metadata": {
      "needs_background": "light"
     },
     "output_type": "display_data"
    }
   ],
   "source": [
    "GOOG[['Adj Close', 'MA for 10 days', 'MA for 20 days', 'MA for 50 days']].plot()"
   ]
  },
  {
   "cell_type": "markdown",
   "id": "a809ad45",
   "metadata": {
    "papermill": {
     "duration": 0.078222,
     "end_time": "2022-02-16T19:27:14.275551",
     "exception": false,
     "start_time": "2022-02-16T19:27:14.197329",
     "status": "completed"
    },
    "tags": []
   },
   "source": [
    "# Daily return of the stock on average"
   ]
  },
  {
   "cell_type": "markdown",
   "id": "9347fc14",
   "metadata": {
    "papermill": {
     "duration": 0.078284,
     "end_time": "2022-02-16T19:27:14.432528",
     "exception": false,
     "start_time": "2022-02-16T19:27:14.354244",
     "status": "completed"
    },
    "tags": []
   },
   "source": [
    "Check daily changes of the stock, and not just its absolute value."
   ]
  },
  {
   "cell_type": "code",
   "execution_count": 41,
   "id": "a79fcd53",
   "metadata": {
    "execution": {
     "iopub.execute_input": "2022-02-16T19:27:14.601078Z",
     "iopub.status.busy": "2022-02-16T19:27:14.600348Z",
     "iopub.status.idle": "2022-02-16T19:27:16.432387Z",
     "shell.execute_reply": "2022-02-16T19:27:16.432964Z",
     "shell.execute_reply.started": "2022-02-16T19:18:12.132214Z"
    },
    "papermill": {
     "duration": 1.922179,
     "end_time": "2022-02-16T19:27:16.433138",
     "exception": false,
     "start_time": "2022-02-16T19:27:14.510959",
     "status": "completed"
    },
    "tags": []
   },
   "outputs": [
    {
     "data": {
      "text/plain": [
       "<AxesSubplot:xlabel='Date'>"
      ]
     },
     "execution_count": 41,
     "metadata": {},
     "output_type": "execute_result"
    },
    {
     "data": {
      "image/png": "[encoded data removed]",
      "text/plain": [
       "<Figure size 432x288 with 1 Axes>"
      ]
     },
     "metadata": {
      "needs_background": "light"
     },
     "output_type": "display_data"
    }
   ],
   "source": [
    "# We'll use pct_change to find the percent change for each day\n",
    "\n",
    "GOOG['Daily Return'] = company['Adj Close'].pct_change()\n",
    "\n",
    "GOOG['Daily Return'].plot(legend=True, linestyle='--', marker='o')"
   ]
  },
  {
   "cell_type": "code",
   "execution_count": 43,
   "id": "ceb0cac7",
   "metadata": {
    "execution": {
     "iopub.execute_input": "2022-02-16T19:27:16.777513Z",
     "iopub.status.busy": "2022-02-16T19:27:16.774356Z",
     "iopub.status.idle": "2022-02-16T19:27:17.790843Z",
     "shell.execute_reply": "2022-02-16T19:27:17.791424Z",
     "shell.execute_reply.started": "2022-02-16T19:19:48.119435Z"
    },
    "papermill": {
     "duration": 1.11475,
     "end_time": "2022-02-16T19:27:17.791632",
     "exception": false,
     "start_time": "2022-02-16T19:27:16.676882",
     "status": "completed"
    },
    "tags": []
   },
   "outputs": [
    {
     "data": {
      "text/plain": [
       "Text(0.5, 1.0, 'GOOGLE')"
      ]
     },
     "execution_count": 43,
     "metadata": {},
     "output_type": "execute_result"
    },
    {
     "data": {
      "image/png": "[encoded data removed]",
      "text/plain": [
       "<Figure size 864x504 with 1 Axes>"
      ]
     },
     "metadata": {
      "needs_background": "light"
     },
     "output_type": "display_data"
    }
   ],
   "source": [
    "plt.figure(figsize=(12, 7))\n",
    "\n",
    "GOOG['Daily Return'].hist(bins=50)\n",
    "plt.ylabel('Daily Return')\n",
    "plt.title(f'GOOGLE')"
   ]
  },
  {
   "cell_type": "code",
   "execution_count": 44,
   "id": "411703be",
   "metadata": {
    "execution": {
     "iopub.execute_input": "2022-02-16T19:27:18.295168Z",
     "iopub.status.busy": "2022-02-16T19:27:18.294457Z",
     "iopub.status.idle": "2022-02-16T19:27:22.234051Z",
     "shell.execute_reply": "2022-02-16T19:27:22.233391Z",
     "shell.execute_reply.started": "2022-02-16T19:24:33.913350Z"
    },
    "papermill": {
     "duration": 4.024748,
     "end_time": "2022-02-16T19:27:22.234190",
     "exception": false,
     "start_time": "2022-02-16T19:27:18.209442",
     "status": "completed"
    },
    "tags": []
   },
   "outputs": [
    {
     "data": {
      "text/plain": [
       "Date\n",
       "2012-04-02    322.252106\n",
       "2012-04-03    320.110138\n",
       "2012-04-04    316.389099\n",
       "2012-04-05    314.979370\n",
       "2012-04-09    314.242157\n",
       "Name: Adj Close, dtype: float64"
      ]
     },
     "execution_count": 44,
     "metadata": {},
     "output_type": "execute_result"
    }
   ],
   "source": [
    "# Grab all the closing prices for the tech stock list into one DataFrame\n",
    "\n",
    "closing_df = DataReader('GOOG', 'yahoo', start, end)['Adj Close']\n",
    "\n",
    "# Let's take a quick look\n",
    "closing_df.head() "
   ]
  },
  {
   "cell_type": "code",
   "execution_count": 45,
   "id": "0c9ba237",
   "metadata": {
    "execution": {
     "iopub.execute_input": "2022-02-16T19:27:22.574582Z",
     "iopub.status.busy": "2022-02-16T19:27:22.573954Z",
     "iopub.status.idle": "2022-02-16T19:27:22.583200Z",
     "shell.execute_reply": "2022-02-16T19:27:22.583810Z",
     "shell.execute_reply.started": "2022-02-16T19:24:37.609238Z"
    },
    "papermill": {
     "duration": 0.097635,
     "end_time": "2022-02-16T19:27:22.583955",
     "exception": false,
     "start_time": "2022-02-16T19:27:22.486320",
     "status": "completed"
    },
    "tags": []
   },
   "outputs": [
    {
     "data": {
      "text/plain": [
       "Date\n",
       "2012-04-02         NaN\n",
       "2012-04-03   -0.006647\n",
       "2012-04-04   -0.011624\n",
       "2012-04-05   -0.004456\n",
       "2012-04-09   -0.002341\n",
       "Name: Adj Close, dtype: float64"
      ]
     },
     "execution_count": 45,
     "metadata": {},
     "output_type": "execute_result"
    }
   ],
   "source": [
    "# Make a new tech returns DataFrame\n",
    "tech_rets = closing_df.pct_change()\n",
    "tech_rets.head()"
   ]
  },
  {
   "cell_type": "code",
   "execution_count": 48,
   "id": "26a03653",
   "metadata": {
    "execution": {
     "iopub.execute_input": "2022-02-16T19:27:22.925402Z",
     "iopub.status.busy": "2022-02-16T19:27:22.924665Z",
     "iopub.status.idle": "2022-02-16T19:27:23.537467Z",
     "shell.execute_reply": "2022-02-16T19:27:23.536775Z",
     "shell.execute_reply.started": "2022-02-16T19:25:29.374866Z"
    },
    "papermill": {
     "duration": 0.69938,
     "end_time": "2022-02-16T19:27:23.537627",
     "exception": false,
     "start_time": "2022-02-16T19:27:22.838247",
     "status": "completed"
    },
    "tags": []
   },
   "outputs": [
    {
     "data": {
      "text/plain": [
       "<seaborn.axisgrid.JointGrid at 0x2108be5f880>"
      ]
     },
     "execution_count": 48,
     "metadata": {},
     "output_type": "execute_result"
    },
    {
     "data": {
      "image/png": "[encoded data removed]",
      "text/plain": [
       "<Figure size 432x432 with 3 Axes>"
      ]
     },
     "metadata": {
      "needs_background": "light"
     },
     "output_type": "display_data"
    }
   ],
   "source": [
    "# Comparing Google to itself should show a perfectly linear relationship\n",
    "sns.jointplot(x=GOOG['Close'], y=GOOG['Close'], data=tech_rets, kind='scatter', color='seagreen')"
   ]
  },
  {
   "cell_type": "markdown",
   "id": "23eaaac0",
   "metadata": {
    "papermill": {
     "duration": 0.072447,
     "end_time": "2022-02-16T19:27:40.865849",
     "exception": false,
     "start_time": "2022-02-16T19:27:40.793402",
     "status": "completed"
    },
    "tags": []
   },
   "source": [
    "# How much value do we put at risk by investing in a particular stock?"
   ]
  },
  {
   "cell_type": "markdown",
   "id": "91f9c27b",
   "metadata": {
    "papermill": {
     "duration": 0.073166,
     "end_time": "2022-02-16T19:27:41.013272",
     "exception": false,
     "start_time": "2022-02-16T19:27:40.940106",
     "status": "completed"
    },
    "tags": []
   },
   "source": [
    "Quantify risk using the info of daily percentage returns and comparing the expected return with the standard deviation of the daily returns."
   ]
  },
  {
   "cell_type": "code",
   "execution_count": 56,
   "id": "08088bfb",
   "metadata": {
    "execution": {
     "iopub.execute_input": "2022-02-16T19:27:41.205301Z",
     "iopub.status.busy": "2022-02-16T19:27:41.181402Z",
     "iopub.status.idle": "2022-02-16T19:27:41.586998Z",
     "shell.execute_reply": "2022-02-16T19:27:41.587539Z",
     "shell.execute_reply.started": "2022-02-16T18:45:41.299804Z"
    },
    "papermill": {
     "duration": 0.501607,
     "end_time": "2022-02-16T19:27:41.587716",
     "exception": false,
     "start_time": "2022-02-16T19:27:41.086109",
     "status": "completed"
    },
    "tags": []
   },
   "outputs": [
    {
     "data": {
      "text/plain": [
       "Text(0, 0.5, 'Risk')"
      ]
     },
     "execution_count": 56,
     "metadata": {},
     "output_type": "execute_result"
    },
    {
     "data": {
      "image/png": "[encoded data removed]",
      "text/plain": [
       "<Figure size 720x504 with 1 Axes>"
      ]
     },
     "metadata": {
      "needs_background": "light"
     },
     "output_type": "display_data"
    }
   ],
   "source": [
    "rets = tech_rets.dropna()\n",
    "# drop NaN values\n",
    "\n",
    "area = np.pi * 20\n",
    "\n",
    "plt.figure(figsize=(10, 7))\n",
    "plt.scatter(rets.mean(), rets.std(), s=area)\n",
    "plt.xlabel('Expected return')\n",
    "plt.ylabel('Risk')"
   ]
  },
  {
   "cell_type": "markdown",
   "id": "f495c259",
   "metadata": {
    "papermill": {
     "duration": 0.102156,
     "end_time": "2022-02-16T19:27:41.793541",
     "exception": false,
     "start_time": "2022-02-16T19:27:41.691385",
     "status": "completed"
    },
    "tags": []
   },
   "source": [
    "# Predicting the closing price stock price of GOOGLE:"
   ]
  },
  {
   "cell_type": "code",
   "execution_count": 57,
   "id": "be188e83",
   "metadata": {
    "execution": {
     "iopub.execute_input": "2022-02-16T19:27:42.007960Z",
     "iopub.status.busy": "2022-02-16T19:27:42.007107Z",
     "iopub.status.idle": "2022-02-16T19:27:43.123411Z",
     "shell.execute_reply": "2022-02-16T19:27:43.123854Z",
     "shell.execute_reply.started": "2022-02-16T18:45:41.910947Z"
    },
    "papermill": {
     "duration": 1.226861,
     "end_time": "2022-02-16T19:27:43.124005",
     "exception": false,
     "start_time": "2022-02-16T19:27:41.897144",
     "status": "completed"
    },
    "tags": []
   },
   "outputs": [
    {
     "data": {
      "text/html": [
       "<div>\n",
       "<style scoped>\n",
       "    .dataframe tbody tr th:only-of-type {\n",
       "        vertical-align: middle;\n",
       "    }\n",
       "\n",
       "    .dataframe tbody tr th {\n",
       "        vertical-align: top;\n",
       "    }\n",
       "\n",
       "    .dataframe thead th {\n",
       "        text-align: right;\n",
       "    }\n",
       "</style>\n",
       "<table border=\"1\" class=\"dataframe\">\n",
       "  <thead>\n",
       "    <tr style=\"text-align: right;\">\n",
       "      <th></th>\n",
       "      <th>High</th>\n",
       "      <th>Low</th>\n",
       "      <th>Open</th>\n",
       "      <th>Close</th>\n",
       "      <th>Volume</th>\n",
       "      <th>Adj Close</th>\n",
       "    </tr>\n",
       "    <tr>\n",
       "      <th>Date</th>\n",
       "      <th></th>\n",
       "      <th></th>\n",
       "      <th></th>\n",
       "      <th></th>\n",
       "      <th></th>\n",
       "      <th></th>\n",
       "    </tr>\n",
       "  </thead>\n",
       "  <tbody>\n",
       "    <tr>\n",
       "      <th>2012-01-03</th>\n",
       "      <td>332.827484</td>\n",
       "      <td>324.966949</td>\n",
       "      <td>325.250885</td>\n",
       "      <td>331.462585</td>\n",
       "      <td>7380561.0</td>\n",
       "      <td>331.462585</td>\n",
       "    </tr>\n",
       "    <tr>\n",
       "      <th>2012-01-04</th>\n",
       "      <td>333.873566</td>\n",
       "      <td>329.076538</td>\n",
       "      <td>331.273315</td>\n",
       "      <td>332.892242</td>\n",
       "      <td>5749470.0</td>\n",
       "      <td>332.892242</td>\n",
       "    </tr>\n",
       "    <tr>\n",
       "      <th>2012-01-05</th>\n",
       "      <td>330.745270</td>\n",
       "      <td>326.889740</td>\n",
       "      <td>329.828735</td>\n",
       "      <td>328.274536</td>\n",
       "      <td>6590410.0</td>\n",
       "      <td>328.274536</td>\n",
       "    </tr>\n",
       "    <tr>\n",
       "      <th>2012-01-06</th>\n",
       "      <td>328.767700</td>\n",
       "      <td>323.681763</td>\n",
       "      <td>328.344299</td>\n",
       "      <td>323.796326</td>\n",
       "      <td>5405987.0</td>\n",
       "      <td>323.796326</td>\n",
       "    </tr>\n",
       "    <tr>\n",
       "      <th>2012-01-09</th>\n",
       "      <td>322.291962</td>\n",
       "      <td>309.455078</td>\n",
       "      <td>322.042908</td>\n",
       "      <td>310.067780</td>\n",
       "      <td>11688849.0</td>\n",
       "      <td>310.067780</td>\n",
       "    </tr>\n",
       "    <tr>\n",
       "      <th>...</th>\n",
       "      <td>...</td>\n",
       "      <td>...</td>\n",
       "      <td>...</td>\n",
       "      <td>...</td>\n",
       "      <td>...</td>\n",
       "      <td>...</td>\n",
       "    </tr>\n",
       "    <tr>\n",
       "      <th>2022-03-29</th>\n",
       "      <td>2883.250000</td>\n",
       "      <td>2849.679932</td>\n",
       "      <td>2863.209961</td>\n",
       "      <td>2865.000000</td>\n",
       "      <td>1433900.0</td>\n",
       "      <td>2865.000000</td>\n",
       "    </tr>\n",
       "    <tr>\n",
       "      <th>2022-03-30</th>\n",
       "      <td>2869.610107</td>\n",
       "      <td>2843.360107</td>\n",
       "      <td>2857.399902</td>\n",
       "      <td>2852.889893</td>\n",
       "      <td>1052300.0</td>\n",
       "      <td>2852.889893</td>\n",
       "    </tr>\n",
       "    <tr>\n",
       "      <th>2022-03-31</th>\n",
       "      <td>2852.889893</td>\n",
       "      <td>2792.379883</td>\n",
       "      <td>2848.969971</td>\n",
       "      <td>2792.989990</td>\n",
       "      <td>1475800.0</td>\n",
       "      <td>2792.989990</td>\n",
       "    </tr>\n",
       "    <tr>\n",
       "      <th>2022-04-01</th>\n",
       "      <td>2819.000000</td>\n",
       "      <td>2775.939941</td>\n",
       "      <td>2800.199951</td>\n",
       "      <td>2814.000000</td>\n",
       "      <td>1173600.0</td>\n",
       "      <td>2814.000000</td>\n",
       "    </tr>\n",
       "    <tr>\n",
       "      <th>2022-04-01</th>\n",
       "      <td>2818.375000</td>\n",
       "      <td>2775.939941</td>\n",
       "      <td>2800.199951</td>\n",
       "      <td>2814.000000</td>\n",
       "      <td>1174001.0</td>\n",
       "      <td>2814.000000</td>\n",
       "    </tr>\n",
       "  </tbody>\n",
       "</table>\n",
       "<p>2581 rows × 6 columns</p>\n",
       "</div>"
      ],
      "text/plain": [
       "                   High          Low         Open        Close      Volume  \\\n",
       "Date                                                                         \n",
       "2012-01-03   332.827484   324.966949   325.250885   331.462585   7380561.0   \n",
       "2012-01-04   333.873566   329.076538   331.273315   332.892242   5749470.0   \n",
       "2012-01-05   330.745270   326.889740   329.828735   328.274536   6590410.0   \n",
       "2012-01-06   328.767700   323.681763   328.344299   323.796326   5405987.0   \n",
       "2012-01-09   322.291962   309.455078   322.042908   310.067780  11688849.0   \n",
       "...                 ...          ...          ...          ...         ...   \n",
       "2022-03-29  2883.250000  2849.679932  2863.209961  2865.000000   1433900.0   \n",
       "2022-03-30  2869.610107  2843.360107  2857.399902  2852.889893   1052300.0   \n",
       "2022-03-31  2852.889893  2792.379883  2848.969971  2792.989990   1475800.0   \n",
       "2022-04-01  2819.000000  2775.939941  2800.199951  2814.000000   1173600.0   \n",
       "2022-04-01  2818.375000  2775.939941  2800.199951  2814.000000   1174001.0   \n",
       "\n",
       "              Adj Close  \n",
       "Date                     \n",
       "2012-01-03   331.462585  \n",
       "2012-01-04   332.892242  \n",
       "2012-01-05   328.274536  \n",
       "2012-01-06   323.796326  \n",
       "2012-01-09   310.067780  \n",
       "...                 ...  \n",
       "2022-03-29  2865.000000  \n",
       "2022-03-30  2852.889893  \n",
       "2022-03-31  2792.989990  \n",
       "2022-04-01  2814.000000  \n",
       "2022-04-01  2814.000000  \n",
       "\n",
       "[2581 rows x 6 columns]"
      ]
     },
     "execution_count": 57,
     "metadata": {},
     "output_type": "execute_result"
    }
   ],
   "source": [
    "df = DataReader('GOOG', data_source='yahoo', start='2012-01-01', end=datetime.now())\n",
    "df"
   ]
  },
  {
   "cell_type": "code",
   "execution_count": 58,
   "id": "3dd7e21f",
   "metadata": {
    "execution": {
     "iopub.execute_input": "2022-02-16T19:27:43.303561Z",
     "iopub.status.busy": "2022-02-16T19:27:43.291097Z",
     "iopub.status.idle": "2022-02-16T19:27:43.679577Z",
     "shell.execute_reply": "2022-02-16T19:27:43.679013Z",
     "shell.execute_reply.started": "2022-02-16T18:45:43.099065Z"
    },
    "papermill": {
     "duration": 0.48163,
     "end_time": "2022-02-16T19:27:43.679717",
     "exception": false,
     "start_time": "2022-02-16T19:27:43.198087",
     "status": "completed"
    },
    "tags": []
   },
   "outputs": [
    {
     "data": {
      "image/png": "[encoded data removed]",
      "text/plain": [
       "<Figure size 1152x432 with 1 Axes>"
      ]
     },
     "metadata": {
      "needs_background": "light"
     },
     "output_type": "display_data"
    }
   ],
   "source": [
    "plt.figure(figsize=(16,6))\n",
    "plt.title('Close Price History')\n",
    "plt.plot(df['Close'])\n",
    "plt.xlabel('Date', fontsize=18)\n",
    "plt.ylabel('Close Price USD ($)', fontsize=18)\n",
    "plt.show()"
   ]
  },
  {
   "cell_type": "code",
   "execution_count": 59,
   "id": "a616f7c6",
   "metadata": {
    "execution": {
     "iopub.execute_input": "2022-02-16T19:27:43.899038Z",
     "iopub.status.busy": "2022-02-16T19:27:43.898214Z",
     "iopub.status.idle": "2022-02-16T19:27:43.902162Z",
     "shell.execute_reply": "2022-02-16T19:27:43.901593Z",
     "shell.execute_reply.started": "2022-02-16T18:45:43.606563Z"
    },
    "papermill": {
     "duration": 0.117174,
     "end_time": "2022-02-16T19:27:43.902321",
     "exception": false,
     "start_time": "2022-02-16T19:27:43.785147",
     "status": "completed"
    },
    "tags": []
   },
   "outputs": [
    {
     "data": {
      "text/plain": [
       "2452"
      ]
     },
     "execution_count": 59,
     "metadata": {},
     "output_type": "execute_result"
    }
   ],
   "source": [
    "# Create a new dataframe with only the 'Close column \n",
    "data = df.filter(['Close'])\n",
    "# Convert the dataframe to a numpy array\n",
    "dataset = data.values\n",
    "# Get the number of rows to train the model on\n",
    "training_data_len = int(np.ceil( len(dataset) * .95 ))\n",
    "\n",
    "training_data_len"
   ]
  },
  {
   "cell_type": "code",
   "execution_count": 60,
   "id": "e240e9e5",
   "metadata": {
    "execution": {
     "iopub.execute_input": "2022-02-16T19:27:44.120922Z",
     "iopub.status.busy": "2022-02-16T19:27:44.120108Z",
     "iopub.status.idle": "2022-02-16T19:27:44.248321Z",
     "shell.execute_reply": "2022-02-16T19:27:44.248880Z",
     "shell.execute_reply.started": "2022-02-16T18:45:43.622961Z"
    },
    "papermill": {
     "duration": 0.240607,
     "end_time": "2022-02-16T19:27:44.249089",
     "exception": false,
     "start_time": "2022-02-16T19:27:44.008482",
     "status": "completed"
    },
    "tags": []
   },
   "outputs": [
    {
     "data": {
      "text/plain": [
       "array([[0.01936668],\n",
       "       [0.01988928],\n",
       "       [0.01820133],\n",
       "       ...,\n",
       "       [0.91914682],\n",
       "       [0.92682676],\n",
       "       [0.92682676]])"
      ]
     },
     "execution_count": 60,
     "metadata": {},
     "output_type": "execute_result"
    }
   ],
   "source": [
    "# Scale the data\n",
    "from sklearn.preprocessing import MinMaxScaler\n",
    "\n",
    "scaler = MinMaxScaler(feature_range=(0,1))\n",
    "scaled_data = scaler.fit_transform(dataset)\n",
    "\n",
    "scaled_data"
   ]
  },
  {
   "cell_type": "code",
   "execution_count": 61,
   "id": "87cabb30",
   "metadata": {
    "_kg_hide-output": true,
    "execution": {
     "iopub.execute_input": "2022-02-16T19:27:44.472887Z",
     "iopub.status.busy": "2022-02-16T19:27:44.472348Z",
     "iopub.status.idle": "2022-02-16T19:27:44.483988Z",
     "shell.execute_reply": "2022-02-16T19:27:44.484657Z",
     "shell.execute_reply.started": "2022-02-16T18:45:43.873542Z"
    },
    "papermill": {
     "duration": 0.128093,
     "end_time": "2022-02-16T19:27:44.484878",
     "exception": false,
     "start_time": "2022-02-16T19:27:44.356785",
     "status": "completed"
    },
    "tags": []
   },
   "outputs": [
    {
     "name": "stdout",
     "output_type": "stream",
     "text": [
      "[array([0.01936668, 0.01988928, 0.01820133, 0.01656438, 0.01154608,\n",
      "       0.01166991, 0.01218339, 0.01285346, 0.01200677, 0.01266046,\n",
      "       0.01344889, 0.01466159, 0.0049054 , 0.00481982, 0.00398405,\n",
      "       0.00190099, 0.00164789, 0.00381107, 0.00339409, 0.00383474,\n",
      "       0.00396584, 0.00474517, 0.00678818, 0.00911159, 0.00868915,\n",
      "       0.00924999, 0.00954314, 0.00853257, 0.00967788, 0.0092336 ,\n",
      "       0.00846884, 0.00864364, 0.00830132, 0.01000564, 0.0089022 ,\n",
      "       0.00856898, 0.00925909, 0.00915165, 0.01080499, 0.0107795 ,\n",
      "       0.01153516, 0.01132577, 0.01005116, 0.00835958, 0.00869462,\n",
      "       0.00875653, 0.00750196, 0.00839417, 0.01069393, 0.01036799,\n",
      "       0.01130391, 0.01201587, 0.01364372, 0.0135545 , 0.01473624,\n",
      "       0.0158415 , 0.01521149, 0.01643874, 0.01601813, 0.01760956])]\n",
      "[0.016271218787306516]\n",
      "\n",
      "[array([0.01936668, 0.01988928, 0.01820133, 0.01656438, 0.01154608,\n",
      "       0.01166991, 0.01218339, 0.01285346, 0.01200677, 0.01266046,\n",
      "       0.01344889, 0.01466159, 0.0049054 , 0.00481982, 0.00398405,\n",
      "       0.00190099, 0.00164789, 0.00381107, 0.00339409, 0.00383474,\n",
      "       0.00396584, 0.00474517, 0.00678818, 0.00911159, 0.00868915,\n",
      "       0.00924999, 0.00954314, 0.00853257, 0.00967788, 0.0092336 ,\n",
      "       0.00846884, 0.00864364, 0.00830132, 0.01000564, 0.0089022 ,\n",
      "       0.00856898, 0.00925909, 0.00915165, 0.01080499, 0.0107795 ,\n",
      "       0.01153516, 0.01132577, 0.01005116, 0.00835958, 0.00869462,\n",
      "       0.00875653, 0.00750196, 0.00839417, 0.01069393, 0.01036799,\n",
      "       0.01130391, 0.01201587, 0.01364372, 0.0135545 , 0.01473624,\n",
      "       0.0158415 , 0.01521149, 0.01643874, 0.01601813, 0.01760956]), array([0.01988928, 0.01820133, 0.01656438, 0.01154608, 0.01166991,\n",
      "       0.01218339, 0.01285346, 0.01200677, 0.01266046, 0.01344889,\n",
      "       0.01466159, 0.0049054 , 0.00481982, 0.00398405, 0.00190099,\n",
      "       0.00164789, 0.00381107, 0.00339409, 0.00383474, 0.00396584,\n",
      "       0.00474517, 0.00678818, 0.00911159, 0.00868915, 0.00924999,\n",
      "       0.00954314, 0.00853257, 0.00967788, 0.0092336 , 0.00846884,\n",
      "       0.00864364, 0.00830132, 0.01000564, 0.0089022 , 0.00856898,\n",
      "       0.00925909, 0.00915165, 0.01080499, 0.0107795 , 0.01153516,\n",
      "       0.01132577, 0.01005116, 0.00835958, 0.00869462, 0.00875653,\n",
      "       0.00750196, 0.00839417, 0.01069393, 0.01036799, 0.01130391,\n",
      "       0.01201587, 0.01364372, 0.0135545 , 0.01473624, 0.0158415 ,\n",
      "       0.01521149, 0.01643874, 0.01601813, 0.01760956, 0.01627122])]\n",
      "[0.016271218787306516, 0.014965667792724943]\n",
      "\n"
     ]
    }
   ],
   "source": [
    "# Create the training data set \n",
    "# Create the scaled training data set\n",
    "train_data = scaled_data[0:int(training_data_len), :]\n",
    "# Split the data into x_train and y_train data sets\n",
    "x_train = []\n",
    "y_train = []\n",
    "\n",
    "for i in range(60, len(train_data)):\n",
    "    x_train.append(train_data[i-60:i, 0])\n",
    "    y_train.append(train_data[i, 0])\n",
    "    if i<= 61:\n",
    "        print(x_train)\n",
    "        print(y_train)\n",
    "        print()\n",
    "        \n",
    "# Convert the x_train and y_train to numpy arrays \n",
    "x_train, y_train = np.array(x_train), np.array(y_train)\n",
    "\n",
    "# Reshape the data\n",
    "x_train = np.reshape(x_train, (x_train.shape[0], x_train.shape[1], 1))\n",
    "# x_train.shape"
   ]
  },
  {
   "cell_type": "code",
   "execution_count": 62,
   "id": "3b0a2cf1",
   "metadata": {
    "execution": {
     "iopub.execute_input": "2022-02-16T19:27:44.706762Z",
     "iopub.status.busy": "2022-02-16T19:27:44.706114Z",
     "iopub.status.idle": "2022-02-16T19:29:27.837434Z",
     "shell.execute_reply": "2022-02-16T19:29:27.836965Z",
     "shell.execute_reply.started": "2022-02-16T18:45:43.896022Z"
    },
    "papermill": {
     "duration": 103.243164,
     "end_time": "2022-02-16T19:29:27.837592",
     "exception": false,
     "start_time": "2022-02-16T19:27:44.594428",
     "status": "completed"
    },
    "tags": []
   },
   "outputs": [
    {
     "name": "stdout",
     "output_type": "stream",
     "text": [
      "2392/2392 [==============================] - 70s 28ms/step - loss: 9.0798e-04\n"
     ]
    },
    {
     "data": {
      "text/plain": [
       "<keras.callbacks.History at 0x21097238fa0>"
      ]
     },
     "execution_count": 62,
     "metadata": {},
     "output_type": "execute_result"
    }
   ],
   "source": [
    "from keras.models import Sequential\n",
    "from keras.layers import Dense, LSTM\n",
    "\n",
    "# Build the LSTM model\n",
    "model = Sequential()\n",
    "model.add(LSTM(128, return_sequences=True, input_shape= (x_train.shape[1], 1)))\n",
    "model.add(LSTM(64, return_sequences=False))\n",
    "model.add(Dense(25))\n",
    "model.add(Dense(1))\n",
    "\n",
    "# Compile the model\n",
    "model.compile(optimizer='adam', loss='mean_squared_error')\n",
    "\n",
    "# Train the model\n",
    "model.fit(x_train, y_train, batch_size=1, epochs=1)"
   ]
  },
  {
   "cell_type": "code",
   "execution_count": 63,
   "id": "03ff7ff9",
   "metadata": {
    "execution": {
     "iopub.execute_input": "2022-02-16T19:29:28.744776Z",
     "iopub.status.busy": "2022-02-16T19:29:28.742411Z",
     "iopub.status.idle": "2022-02-16T19:29:29.844123Z",
     "shell.execute_reply": "2022-02-16T19:29:29.844715Z",
     "shell.execute_reply.started": "2022-02-16T18:48:27.505874Z"
    },
    "papermill": {
     "duration": 1.559536,
     "end_time": "2022-02-16T19:29:29.844894",
     "exception": false,
     "start_time": "2022-02-16T19:29:28.285358",
     "status": "completed"
    },
    "tags": []
   },
   "outputs": [
    {
     "data": {
      "text/plain": [
       "74.2044238968303"
      ]
     },
     "execution_count": 63,
     "metadata": {},
     "output_type": "execute_result"
    }
   ],
   "source": [
    "# Create the testing data set\n",
    "# Create a new array containing scaled values from index 1543 to 2002 \n",
    "test_data = scaled_data[training_data_len - 60: , :]\n",
    "# Create the data sets x_test and y_test\n",
    "x_test = []\n",
    "y_test = dataset[training_data_len:, :]\n",
    "for i in range(60, len(test_data)):\n",
    "    x_test.append(test_data[i-60:i, 0])\n",
    "    \n",
    "# Convert the data to a numpy array\n",
    "x_test = np.array(x_test)\n",
    "\n",
    "# Reshape the data\n",
    "x_test = np.reshape(x_test, (x_test.shape[0], x_test.shape[1], 1 ))\n",
    "\n",
    "# Get the models predicted price values \n",
    "predictions = model.predict(x_test)\n",
    "predictions = scaler.inverse_transform(predictions)\n",
    "\n",
    "# Get the root mean squared error (RMSE)\n",
    "rmse = np.sqrt(np.mean(((predictions - y_test) ** 2)))\n",
    "rmse"
   ]
  },
  {
   "cell_type": "code",
   "execution_count": 64,
   "id": "655df1f8",
   "metadata": {
    "execution": {
     "iopub.execute_input": "2022-02-16T19:29:31.252637Z",
     "iopub.status.busy": "2022-02-16T19:29:31.251954Z",
     "iopub.status.idle": "2022-02-16T19:29:31.661676Z",
     "shell.execute_reply": "2022-02-16T19:29:31.662275Z",
     "shell.execute_reply.started": "2022-02-16T18:48:28.548884Z"
    },
    "papermill": {
     "duration": 1.115394,
     "end_time": "2022-02-16T19:29:31.662457",
     "exception": false,
     "start_time": "2022-02-16T19:29:30.547063",
     "status": "completed"
    },
    "tags": []
   },
   "outputs": [
    {
     "name": "stderr",
     "output_type": "stream",
     "text": [
      "C:\\Users\\hp\\AppData\\Local\\Temp/ipykernel_12292/2388977846.py:4: SettingWithCopyWarning: \n",
      "A value is trying to be set on a copy of a slice from a DataFrame.\n",
      "Try using .loc[row_indexer,col_indexer] = value instead\n",
      "\n",
      "See the caveats in the documentation: https://pandas.pydata.org/pandas-docs/stable/user_guide/indexing.html#returning-a-view-versus-a-copy\n",
      "  valid['Predictions'] = predictions\n"
     ]
    },
    {
     "data": {
      "image/png": "[encoded data removed]",
      "text/plain": [
       "<Figure size 1152x432 with 1 Axes>"
      ]
     },
     "metadata": {
      "needs_background": "light"
     },
     "output_type": "display_data"
    }
   ],
   "source": [
    "# Plot the data\n",
    "train = data[:training_data_len]\n",
    "valid = data[training_data_len:]\n",
    "valid['Predictions'] = predictions\n",
    "# Visualize the data\n",
    "plt.figure(figsize=(16,6))\n",
    "plt.title('Model')\n",
    "plt.xlabel('Date', fontsize=18)\n",
    "plt.ylabel('Close Price USD ($)', fontsize=18)\n",
    "plt.plot(train['Close'])\n",
    "plt.plot(valid[['Close', 'Predictions']])\n",
    "plt.legend(['Train', 'Val', 'Predictions'], loc='lower right')\n",
    "plt.show()"
   ]
  },
  {
   "cell_type": "code",
   "execution_count": 65,
   "id": "dd95df61",
   "metadata": {
    "execution": {
     "iopub.execute_input": "2022-02-16T19:29:33.069235Z",
     "iopub.status.busy": "2022-02-16T19:29:33.068619Z",
     "iopub.status.idle": "2022-02-16T19:29:33.078250Z",
     "shell.execute_reply": "2022-02-16T19:29:33.078883Z",
     "shell.execute_reply.started": "2022-02-16T18:48:29.012801Z"
    },
    "papermill": {
     "duration": 0.717585,
     "end_time": "2022-02-16T19:29:33.079035",
     "exception": false,
     "start_time": "2022-02-16T19:29:32.361450",
     "status": "completed"
    },
    "tags": []
   },
   "outputs": [
    {
     "data": {
      "text/html": [
       "<div>\n",
       "<style scoped>\n",
       "    .dataframe tbody tr th:only-of-type {\n",
       "        vertical-align: middle;\n",
       "    }\n",
       "\n",
       "    .dataframe tbody tr th {\n",
       "        vertical-align: top;\n",
       "    }\n",
       "\n",
       "    .dataframe thead th {\n",
       "        text-align: right;\n",
       "    }\n",
       "</style>\n",
       "<table border=\"1\" class=\"dataframe\">\n",
       "  <thead>\n",
       "    <tr style=\"text-align: right;\">\n",
       "      <th></th>\n",
       "      <th>Close</th>\n",
       "      <th>Predictions</th>\n",
       "    </tr>\n",
       "    <tr>\n",
       "      <th>Date</th>\n",
       "      <th></th>\n",
       "      <th></th>\n",
       "    </tr>\n",
       "  </thead>\n",
       "  <tbody>\n",
       "    <tr>\n",
       "      <th>2021-09-30</th>\n",
       "      <td>2665.310059</td>\n",
       "      <td>2803.647705</td>\n",
       "    </tr>\n",
       "    <tr>\n",
       "      <th>2021-10-01</th>\n",
       "      <td>2729.250000</td>\n",
       "      <td>2771.483398</td>\n",
       "    </tr>\n",
       "    <tr>\n",
       "      <th>2021-10-04</th>\n",
       "      <td>2675.300049</td>\n",
       "      <td>2754.789307</td>\n",
       "    </tr>\n",
       "    <tr>\n",
       "      <th>2021-10-05</th>\n",
       "      <td>2723.540039</td>\n",
       "      <td>2737.506836</td>\n",
       "    </tr>\n",
       "    <tr>\n",
       "      <th>2021-10-06</th>\n",
       "      <td>2747.080078</td>\n",
       "      <td>2732.077637</td>\n",
       "    </tr>\n",
       "    <tr>\n",
       "      <th>...</th>\n",
       "      <td>...</td>\n",
       "      <td>...</td>\n",
       "    </tr>\n",
       "    <tr>\n",
       "      <th>2022-03-29</th>\n",
       "      <td>2865.000000</td>\n",
       "      <td>2817.289062</td>\n",
       "    </tr>\n",
       "    <tr>\n",
       "      <th>2022-03-30</th>\n",
       "      <td>2852.889893</td>\n",
       "      <td>2835.600586</td>\n",
       "    </tr>\n",
       "    <tr>\n",
       "      <th>2022-03-31</th>\n",
       "      <td>2792.989990</td>\n",
       "      <td>2848.368896</td>\n",
       "    </tr>\n",
       "    <tr>\n",
       "      <th>2022-04-01</th>\n",
       "      <td>2814.000000</td>\n",
       "      <td>2846.119629</td>\n",
       "    </tr>\n",
       "    <tr>\n",
       "      <th>2022-04-01</th>\n",
       "      <td>2814.000000</td>\n",
       "      <td>2842.250488</td>\n",
       "    </tr>\n",
       "  </tbody>\n",
       "</table>\n",
       "<p>129 rows × 2 columns</p>\n",
       "</div>"
      ],
      "text/plain": [
       "                  Close  Predictions\n",
       "Date                                \n",
       "2021-09-30  2665.310059  2803.647705\n",
       "2021-10-01  2729.250000  2771.483398\n",
       "2021-10-04  2675.300049  2754.789307\n",
       "2021-10-05  2723.540039  2737.506836\n",
       "2021-10-06  2747.080078  2732.077637\n",
       "...                 ...          ...\n",
       "2022-03-29  2865.000000  2817.289062\n",
       "2022-03-30  2852.889893  2835.600586\n",
       "2022-03-31  2792.989990  2848.368896\n",
       "2022-04-01  2814.000000  2846.119629\n",
       "2022-04-01  2814.000000  2842.250488\n",
       "\n",
       "[129 rows x 2 columns]"
      ]
     },
     "execution_count": 65,
     "metadata": {},
     "output_type": "execute_result"
    }
   ],
   "source": [
    "# Show the valid and predicted prices\n",
    "valid"
   ]
  }
 ],
 "metadata": {
  "kernelspec": {
   "display_name": "Python 3 (ipykernel)",
   "language": "python",
   "name": "python3"
  },
  "language_info": {
   "codemirror_mode": {
    "name": "ipython",
    "version": 3
   },
   "file_extension": ".py",
   "mimetype": "text/x-python",
   "name": "python",
   "nbconvert_exporter": "python",
   "pygments_lexer": "ipython3",
   "version": "3.9.6"
  },
  "papermill": {
   "default_parameters": {},
   "duration": 175.931953,
   "end_time": "2022-02-16T19:29:36.783727",
   "environment_variables": {},
   "exception": null,
   "input_path": "__notebook__.ipynb",
   "output_path": "__notebook__.ipynb",
   "parameters": {},
   "start_time": "2022-02-16T19:26:40.851774",
   "version": "2.3.3"
  }
 },
 "nbformat": 4,
 "nbformat_minor": 5
}
